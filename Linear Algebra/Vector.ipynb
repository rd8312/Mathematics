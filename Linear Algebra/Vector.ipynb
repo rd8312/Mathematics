{
 "cells": [
  {
   "cell_type": "markdown",
   "source": [
    "# 1.1 Vector"
   ],
   "metadata": {}
  },
  {
   "cell_type": "markdown",
   "source": [
    "## 1.1.1 Scalar and Vector"
   ],
   "metadata": {}
  },
  {
   "cell_type": "markdown",
   "source": [
    "- Vector : values with magnitude and direction\r\n",
    "- Scalar : value with size only"
   ],
   "metadata": {}
  },
  {
   "cell_type": "code",
   "execution_count": 6,
   "source": [
    "# a(0,0),b(5,3) two points distance\r\n",
    "\r\n",
    "ab = (5**2+3**2)**0.5\r\n",
    "round(ab,2)"
   ],
   "outputs": [
    {
     "output_type": "execute_result",
     "data": {
      "text/plain": [
       "5.83"
      ]
     },
     "metadata": {},
     "execution_count": 6
    }
   ],
   "metadata": {}
  },
  {
   "cell_type": "code",
   "execution_count": 4,
   "source": [
    "ab"
   ],
   "outputs": [
    {
     "output_type": "execute_result",
     "data": {
      "text/plain": [
       "5.830951894845301"
      ]
     },
     "metadata": {},
     "execution_count": 4
    }
   ],
   "metadata": {}
  },
  {
   "cell_type": "code",
   "execution_count": 8,
   "source": [
    "# four points\r\n",
    "\r\n",
    "import numpy as np\r\n",
    "point = np.array(\r\n",
    "                [[5,3],\r\n",
    "                [3,-4],\r\n",
    "                [-2,-4],\r\n",
    "                [-3,5]])\r\n",
    "print(point)"
   ],
   "outputs": [
    {
     "output_type": "stream",
     "name": "stdout",
     "text": [
      "[[ 5  3]\n",
      " [ 3 -4]\n",
      " [-2 -4]\n",
      " [-3  5]]\n"
     ]
    }
   ],
   "metadata": {}
  },
  {
   "cell_type": "code",
   "execution_count": 9,
   "source": [
    "import pandas as pd\r\n",
    "d = [(point[I,0]**2+point[I,1]**2)**0.5 for I in range(4)]\r\n",
    "re = np.c_[point, d]\r\n",
    "re1 = pd.DataFrame(re)\r\n",
    "re1.columns = ['x', 'y', 'distance']\r\n",
    "re1.index = ['b', 'g', 'r', 'k']\r\n",
    "print(re1)"
   ],
   "outputs": [
    {
     "output_type": "stream",
     "name": "stdout",
     "text": [
      "     x    y  distance\n",
      "b  5.0  3.0  5.830952\n",
      "g  3.0 -4.0  5.000000\n",
      "r -2.0 -4.0  4.472136\n",
      "k -3.0  5.0  5.830952\n"
     ]
    }
   ],
   "metadata": {}
  },
  {
   "cell_type": "markdown",
   "source": [
    "## 1.1.2 Dimension and axis"
   ],
   "metadata": {}
  },
  {
   "cell_type": "code",
   "execution_count": 10,
   "source": [
    "# row vector\r\n",
    "# represent a line\r\n",
    "\r\n",
    "a = np.array([1, 2])\r\n",
    "print(a)"
   ],
   "outputs": [
    {
     "output_type": "stream",
     "name": "stdout",
     "text": [
      "[1 2]\n"
     ]
    }
   ],
   "metadata": {}
  },
  {
   "cell_type": "code",
   "execution_count": 11,
   "source": [
    "# column vector\r\n",
    "# represent a plane\r\n",
    "\r\n",
    "a1 = np.array([[1], [2]])\r\n",
    "print(a1)"
   ],
   "outputs": [
    {
     "output_type": "stream",
     "name": "stdout",
     "text": [
      "[[1]\n",
      " [2]]\n"
     ]
    }
   ],
   "metadata": {}
  },
  {
   "cell_type": "code",
   "execution_count": 14,
   "source": [
    "# one dimension\r\n",
    "\r\n",
    "a.ndim"
   ],
   "outputs": [
    {
     "output_type": "execute_result",
     "data": {
      "text/plain": [
       "1"
      ]
     },
     "metadata": {},
     "execution_count": 14
    }
   ],
   "metadata": {}
  },
  {
   "cell_type": "code",
   "execution_count": 15,
   "source": [
    "\r\n",
    "a.shape"
   ],
   "outputs": [
    {
     "output_type": "execute_result",
     "data": {
      "text/plain": [
       "(2,)"
      ]
     },
     "metadata": {},
     "execution_count": 15
    }
   ],
   "metadata": {}
  },
  {
   "cell_type": "code",
   "execution_count": 16,
   "source": [
    "# two dimension\r\n",
    "\r\n",
    "a1.ndim"
   ],
   "outputs": [
    {
     "output_type": "execute_result",
     "data": {
      "text/plain": [
       "2"
      ]
     },
     "metadata": {},
     "execution_count": 16
    }
   ],
   "metadata": {}
  },
  {
   "cell_type": "code",
   "execution_count": 17,
   "source": [
    "a1.shape"
   ],
   "outputs": [
    {
     "output_type": "execute_result",
     "data": {
      "text/plain": [
       "(2, 1)"
      ]
     },
     "metadata": {},
     "execution_count": 17
    }
   ],
   "metadata": {}
  },
  {
   "cell_type": "code",
   "execution_count": null,
   "source": [],
   "outputs": [],
   "metadata": {}
  }
 ],
 "metadata": {
  "orig_nbformat": 4,
  "language_info": {
   "name": "python",
   "version": "3.8.5",
   "mimetype": "text/x-python",
   "codemirror_mode": {
    "name": "ipython",
    "version": 3
   },
   "pygments_lexer": "ipython3",
   "nbconvert_exporter": "python",
   "file_extension": ".py"
  },
  "kernelspec": {
   "name": "python3",
   "display_name": "Python 3.8.5 64-bit ('base': conda)"
  },
  "interpreter": {
   "hash": "5ac200a712f16a3b134d6c8b8e925408a9a632feecddc0d6c93c724ded7f7790"
  }
 },
 "nbformat": 4,
 "nbformat_minor": 2
}